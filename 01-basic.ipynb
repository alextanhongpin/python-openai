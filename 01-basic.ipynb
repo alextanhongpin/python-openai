{
 "cells": [
  {
   "cell_type": "markdown",
   "metadata": {},
   "source": [
    "# OpenAI Gemini Adapter"
   ]
  },
  {
   "cell_type": "code",
   "execution_count": 3,
   "metadata": {},
   "outputs": [],
   "source": [
    "import os\n",
    "GOOGLE_API_KEY = os.environ['GOOGLE_API_KEY']"
   ]
  },
  {
   "cell_type": "code",
   "execution_count": 9,
   "metadata": {},
   "outputs": [
    {
     "data": {
      "text/plain": [
       "ChatCompletion(id='', choices=[Choice(finish_reason='stop', index=0, logprobs=None, message=ChatCompletionMessage(content='This is a test.', role='assistant', function_call=None, tool_calls=None))], created=0, model='', object='', system_fingerprint='', usage=CompletionUsage(completion_tokens=0, prompt_tokens=0, total_tokens=0))"
      ]
     },
     "execution_count": 9,
     "metadata": {},
     "output_type": "execute_result"
    }
   ],
   "source": [
    "from openai import OpenAI\n",
    "client = OpenAI(\n",
    "  api_key=GOOGLE_API_KEY,\n",
    "  base_url='http://localhost:8080'\n",
    ")\n",
    "chat_completion = client.chat.completions.create(\n",
    "  messages=[\n",
    "    {\n",
    "      'role': 'user',\n",
    "      'content': 'say this is a test'\n",
    "    }\n",
    "  ],\n",
    "  model='gpt-3.5-turbo'\n",
    ")\n",
    "\n",
    "chat_completion"
   ]
  },
  {
   "cell_type": "code",
   "execution_count": 10,
   "metadata": {},
   "outputs": [
    {
     "data": {
      "text/plain": [
       "'This is a test.'"
      ]
     },
     "execution_count": 10,
     "metadata": {},
     "output_type": "execute_result"
    }
   ],
   "source": [
    "chat_completion.choices[0].message.content"
   ]
  },
  {
   "cell_type": "markdown",
   "metadata": {},
   "source": [
    "## Image"
   ]
  },
  {
   "cell_type": "code",
   "execution_count": 27,
   "metadata": {},
   "outputs": [],
   "source": [
    "import mimetypes\n",
    "import base64\n",
    "\n",
    "def encode_image(image_path: str) -> str:\n",
    "  mime_type, _ = mimetypes.guess_type(image_path)\n",
    "  if mime_type is None:\n",
    "    raise ValueError(f'Could not guess mime type for image path: {image_path}')\n",
    "  with open(image_path, 'rb') as f:\n",
    "    encoded_string = base64.b64encode(f.read()).decode('utf-8')\n",
    "    return f\"data:{mime_type};base64,{encoded_string}\""
   ]
  },
  {
   "cell_type": "code",
   "execution_count": 34,
   "metadata": {},
   "outputs": [
    {
     "name": "stdout",
     "output_type": "stream",
     "text": [
      " The image shows a statue of a lion with a fish tail. It is located in Singapore and is known as the Merlion. The Merlion is a mythical creature that is said to have brought prosperity to Singapore. The statue is located on the waterfront and overlooks the Marina Bay. The Merlion is a popular tourist attraction and is often used as a symbol of Singapore.\n"
     ]
    }
   ],
   "source": [
    "completion = client.chat.completions.create(\n",
    "    model=\"gpt-4-0xxx\",\n",
    "    messages=[\n",
    "        {\n",
    "            \"role\": \"system\",\n",
    "            \"content\": \"You are a helpful assistant and can describe images.\",\n",
    "        },\n",
    "        {\n",
    "            \"role\": \"user\",\n",
    "            \"content\": [\n",
    "                {\n",
    "                    'type': 'text',\n",
    "                    'text': 'what is in this image?',\n",
    "                },\n",
    "                {\n",
    "                    'type': 'image_url',\n",
    "                    'image_url': {\n",
    "                    'detail': 'auto',\n",
    "                    'url': encode_image('./singapore.jpeg')\n",
    "                    }\n",
    "                }\n",
    "            ],\n",
    "        },\n",
    "    ],\n",
    ")\n",
    "\n",
    "print(completion.choices[0].message.content)"
   ]
  },
  {
   "cell_type": "code",
   "execution_count": 36,
   "metadata": {},
   "outputs": [
    {
     "name": "stdout",
     "output_type": "stream",
     "text": [
      " It is around 7pm because the sky is dark and the lights of the buildings are on.\n"
     ]
    }
   ],
   "source": [
    "completion = client.chat.completions.create(\n",
    "    model=\"gpt-4-0xxx\",\n",
    "    messages=[\n",
    "        {\n",
    "            \"role\": \"system\",\n",
    "            \"content\": \"You are a helpful assistant and can describe images.\",\n",
    "        },\n",
    "        {\n",
    "            \"role\": \"user\",\n",
    "            \"content\": [\n",
    "                {\n",
    "                    'type': 'text',\n",
    "                    'text': 'what do you think the time is in this image? why?',\n",
    "                },\n",
    "                {\n",
    "                    'type': 'image_url',\n",
    "                    'image_url': {\n",
    "                    'detail': 'auto',\n",
    "                    'url': encode_image('./singapore.jpeg')\n",
    "                    }\n",
    "                }\n",
    "            ],\n",
    "        },\n",
    "    ],\n",
    ")\n",
    "\n",
    "print(completion.choices[0].message.content)\n"
   ]
  },
  {
   "cell_type": "code",
   "execution_count": null,
   "metadata": {},
   "outputs": [],
   "source": []
  }
 ],
 "metadata": {
  "kernelspec": {
   "display_name": ".venv",
   "language": "python",
   "name": "python3"
  },
  "language_info": {
   "codemirror_mode": {
    "name": "ipython",
    "version": 3
   },
   "file_extension": ".py",
   "mimetype": "text/x-python",
   "name": "python",
   "nbconvert_exporter": "python",
   "pygments_lexer": "ipython3",
   "version": "3.11.6"
  }
 },
 "nbformat": 4,
 "nbformat_minor": 2
}
