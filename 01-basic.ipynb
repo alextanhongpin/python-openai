{
 "cells": [
  {
   "cell_type": "markdown",
   "metadata": {},
   "source": [
    "# OpenAI Gemini Adapter"
   ]
  },
  {
   "cell_type": "code",
   "execution_count": 37,
   "metadata": {},
   "outputs": [],
   "source": [
    "import os\n",
    "GOOGLE_API_KEY = os.environ['GOOGLE_API_KEY']"
   ]
  },
  {
   "cell_type": "code",
   "execution_count": 41,
   "metadata": {},
   "outputs": [
    {
     "data": {
      "text/plain": [
       "ChatCompletion(id='', choices=[Choice(finish_reason='stop', index=0, logprobs=None, message=ChatCompletionMessage(content='This is a test.', role='assistant', function_call=None, tool_calls=None))], created=0, model='', object='', system_fingerprint='', usage=CompletionUsage(completion_tokens=0, prompt_tokens=0, total_tokens=0))"
      ]
     },
     "execution_count": 41,
     "metadata": {},
     "output_type": "execute_result"
    }
   ],
   "source": [
    "from openai import OpenAI\n",
    "client = OpenAI(\n",
    "  api_key=GOOGLE_API_KEY,\n",
    "  base_url='http://localhost:8080'\n",
    ")\n",
    "chat_completion = client.chat.completions.create(\n",
    "  messages=[\n",
    "    {\n",
    "      'role': 'user',\n",
    "      'content': 'say this is a test'\n",
    "    }\n",
    "  ],\n",
    "  model='gpt-3.5-turbo'\n",
    ")\n",
    "\n",
    "chat_completion"
   ]
  },
  {
   "cell_type": "code",
   "execution_count": 10,
   "metadata": {},
   "outputs": [
    {
     "data": {
      "text/plain": [
       "'This is a test.'"
      ]
     },
     "execution_count": 10,
     "metadata": {},
     "output_type": "execute_result"
    }
   ],
   "source": [
    "chat_completion.choices[0].message.content"
   ]
  },
  {
   "cell_type": "markdown",
   "metadata": {},
   "source": [
    "## Image"
   ]
  },
  {
   "cell_type": "code",
   "execution_count": 42,
   "metadata": {},
   "outputs": [],
   "source": [
    "import mimetypes\n",
    "import base64\n",
    "\n",
    "def encode_image(image_path: str) -> str:\n",
    "  mime_type, _ = mimetypes.guess_type(image_path)\n",
    "  if mime_type is None:\n",
    "    raise ValueError(f'Could not guess mime type for image path: {image_path}')\n",
    "  with open(image_path, 'rb') as f:\n",
    "    encoded_string = base64.b64encode(f.read()).decode('utf-8')\n",
    "    return f\"data:{mime_type};base64,{encoded_string}\""
   ]
  },
  {
   "cell_type": "code",
   "execution_count": 45,
   "metadata": {},
   "outputs": [
    {
     "name": "stdout",
     "output_type": "stream",
     "text": [
      " The image shows a statue of a lion with a fish tail. It is located in Singapore and is known as the Merlion. The Merlion is a mythical creature that is said to have brought prosperity to Singapore. The statue is located on the waterfront and overlooks the Marina Bay. The Merlion is a popular tourist attraction and is often used as a symbol of Singapore.\n"
     ]
    }
   ],
   "source": [
    "completion = client.chat.completions.create(\n",
    "    model=\"gpt-4-0xxx\",\n",
    "    messages=[\n",
    "        {\n",
    "            \"role\": \"system\",\n",
    "            \"content\": \"You are a helpful assistant and can describe images.\",\n",
    "        },\n",
    "        {\n",
    "            \"role\": \"user\",\n",
    "            \"content\": [\n",
    "                {\n",
    "                    'type': 'text',\n",
    "                    'text': 'what is in this image?',\n",
    "                },\n",
    "                {\n",
    "                    'type': 'image_url',\n",
    "                    'image_url': {\n",
    "                    'detail': 'auto',\n",
    "                    'url': encode_image('./singapore.jpeg')\n",
    "                    }\n",
    "                }\n",
    "            ],\n",
    "        },\n",
    "    ],\n",
    ")\n",
    "\n",
    "print(completion.choices[0].message.content)"
   ]
  },
  {
   "cell_type": "code",
   "execution_count": 46,
   "metadata": {},
   "outputs": [
    {
     "name": "stdout",
     "output_type": "stream",
     "text": [
      " It is around 7pm because the sky is dark and the lights of the buildings are on.\n"
     ]
    }
   ],
   "source": [
    "completion = client.chat.completions.create(\n",
    "    model=\"gpt-4-0xxx\",\n",
    "    messages=[\n",
    "        {\n",
    "            \"role\": \"system\",\n",
    "            \"content\": \"You are a helpful assistant and can describe images.\",\n",
    "        },\n",
    "        {\n",
    "            \"role\": \"user\",\n",
    "            \"content\": [\n",
    "                {\n",
    "                    'type': 'text',\n",
    "                    'text': 'what do you think the time is in this image? why?',\n",
    "                },\n",
    "                {\n",
    "                    'type': 'image_url',\n",
    "                    'image_url': {\n",
    "                    'detail': 'auto',\n",
    "                    'url': encode_image('./singapore.jpeg')\n",
    "                    }\n",
    "                }\n",
    "            ],\n",
    "        },\n",
    "    ],\n",
    ")\n",
    "\n",
    "print(completion.choices[0].message.content)"
   ]
  },
  {
   "cell_type": "code",
   "execution_count": 55,
   "metadata": {},
   "outputs": [
    {
     "name": "stdout",
     "output_type": "stream",
     "text": [
      "2023 was a year of significant events and developments across the globe. Here's a summary of some key highlights:\n",
      "\n",
      "**Geopolitical Events:**\n",
      "\n",
      "- Russia-Ukraine Conflict: The ongoing conflict between Russia and Ukraine continued to dominate headlines. Diplomatic efforts and peace talks yielded little progress, resulting in a protracted war with far-reaching consequences.\n",
      "\n",
      "- Taiwan-China Tensions: Tensions between Taiwan and China escalated, with China increasing military exercises and incursions near the island. The United States reaffirmed its commitment to Taiwan's defense, further straining relations with China.\n",
      "\n",
      "- COP28 Climate Summit: The 28th Conference of the Parties (COP28) to the United Nations Framework Convention on Climate Change was held in Dubai, United Arab Emirates. The summit focused on accelerating climate action and securing commitments from countries to reduce greenhouse gas emissions.\n",
      "\n",
      "**Technological Advancements:**\n",
      "\n",
      "- AI and Machine Learning: Artificial intelligence (AI) and machine learning technologies continued to make strides, with applications in various fields such as healthcare, finance, and transportation. Generative AI, like ChatGPT, gained significant attention for its ability to generate human-like text and code.\n",
      "\n",
      "- Space Exploration: Several notable space missions took place, including the launch of the Artemis I mission, which marked the first step in NASA's plan to return humans to the moon. The James Webb Space Telescope also released stunning images of the universe, providing new insights into the cosmos.\n",
      "\n",
      "- Quantum Computing: Progress was made in the field of quantum computing, with companies and research institutions showcasing advancements in hardware and software. Quantum computers have the potential to revolutionize fields like cryptography, optimization, and drug discovery.\n",
      "\n",
      "**Economic Trends:**\n",
      "\n",
      "- Global Economic Recovery: The global economy showed signs of recovery from the COVID-19 pandemic, although concerns about inflation, supply chain disruptions, and geopolitical uncertainties persisted.\n",
      "\n",
      "- Cryptocurrency Market: The cryptocurrency market experienced significant volatility, with major cryptocurrencies like Bitcoin and Ethereum facing price fluctuations and regulatory challenges.\n",
      "\n",
      "- Energy Crisis: The energy crisis, triggered by the Russia-Ukraine conflict and supply-demand imbalances, led to soaring energy prices and concerns about energy security. Countries explored alternative energy sources and renewable energy solutions.\n",
      "\n",
      "**Social and Cultural Developments:**\n",
      "\n",
      "- COVID-19 Pandemic: While the pandemic continued to impact lives and economies, vaccination campaigns and public health measures helped mitigate its effects. However, new variants and sub-variants emerged, prompting ongoing discussions about pandemic management and public health strategies.\n",
      "\n",
      "- Social Justice Movements: Social justice movements, such as the Black Lives Matter movement and the #MeToo movement, continued to gain momentum, raising awareness about systemic inequalities and advocating for change.\n",
      "\n",
      "- Cultural Events: Major cultural events included the FIFA World Cup in Qatar, which brought together nations in a celebration of football. The world also witnessed the passing of notable figures, including Queen Elizabeth II and Pope Benedict XVI.\n",
      "\n",
      "Overall, 2023 was a year marked by geopolitical tensions, technological advancements, economic challenges, and social and cultural developments that shaped the global landscape."
     ]
    }
   ],
   "source": [
    "import sys\n",
    "\n",
    "chat_completion = client.chat.completions.create(\n",
    "  messages=[\n",
    "    {\n",
    "      'role': 'user',\n",
    "      'content': 'summarize the year 2023'\n",
    "    }\n",
    "  ],\n",
    "  model='gpt-3.5-turbo',\n",
    "  stream=True\n",
    ")\n",
    "\n",
    "for resp in chat_completion:\n",
    "  sys.stdout.write(resp.choices[0].delta.content)\n",
    "  sys.stdout.flush()"
   ]
  },
  {
   "cell_type": "code",
   "execution_count": null,
   "metadata": {},
   "outputs": [],
   "source": []
  }
 ],
 "metadata": {
  "kernelspec": {
   "display_name": ".venv",
   "language": "python",
   "name": "python3"
  },
  "language_info": {
   "codemirror_mode": {
    "name": "ipython",
    "version": 3
   },
   "file_extension": ".py",
   "mimetype": "text/x-python",
   "name": "python",
   "nbconvert_exporter": "python",
   "pygments_lexer": "ipython3",
   "version": "3.11.6"
  }
 },
 "nbformat": 4,
 "nbformat_minor": 2
}
